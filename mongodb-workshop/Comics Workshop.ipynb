{
 "cells": [
  {
   "cell_type": "markdown",
   "metadata": {},
   "source": [
    "# MongoDB Workshop\n",
    "\n",
    "Today we will be experimenting with MongoDB!  \n",
    "\n",
    "This workshop will have you execute some sample code to get you familiar with using the [pymongo](http://api.mongodb.com/python/current/index.html) library.  Then, we will use the Marvel comics dataset to insert and query data.\n",
    "\n",
    "The data was obtained from [Kaggle](https://www.kaggle.com/fivethirtyeight/fivethirtyeight-comic-characters-dataset) but was originally sourced from from [Marvel Wikia](http://marvel.wikia.com/Main_Page) and [DC Wikia](http://dc.wikia.com/wiki/Main_Page). It is split into two files, for DC and Marvel, respectively: `dc-wikia-data.csv` and `marvel-wikia-data.csv`. Each file has the following variables:\n",
    "\n",
    "Variable | Definition\n",
    "---|---------\n",
    "`page_id` | The unique identifier for that characters page within the wikia\n",
    "`name` | The name of the character\n",
    "`urlslug` | The unique url within the wikia that takes you to the character\n",
    "`ID` | The identity status of the character (Secret Identity, Public identity, [on marvel only: No Dual Identity])\n",
    "`ALIGN` | If the character is Good, Bad or Neutral\n",
    "`EYE` | Eye color of the character\n",
    "`HAIR` | Hair color of the character\n",
    "`SEX` | Sex of the character (e.g. Male, Female, etc.)\n",
    "`GSM` | If the character is a gender or sexual minority (e.g. Homosexual characters, bisexual characters)\n",
    "`ALIVE` | If the character is alive or deceased\n",
    "`APPEARANCES` | The number of appareances of the character in comic books (as of Sep. 2, 2014. Number will become increasingly out of date as time goes on.)\n",
    "`FIRST APPEARANCE` | The month and year of the character's first appearance in a comic book, if available\n",
    "`YEAR` | The year of the character's first appearance in a comic book, if available\n",
    "\n",
    "<br>\n",
    "The first thing we will do is import our libraries."
   ]
  },
  {
   "cell_type": "code",
   "execution_count": null,
   "metadata": {},
   "outputs": [],
   "source": [
    "import csv\n",
    "import json\n",
    "from glob import glob\n",
    "from pprint import pprint\n",
    "from pymongo import MongoClient"
   ]
  },
  {
   "cell_type": "markdown",
   "metadata": {},
   "source": [
    "## Let's look at our data"
   ]
  },
  {
   "cell_type": "markdown",
   "metadata": {},
   "source": [
    "We will use Python's [glob](https://docs.python.org/3/library/glob.html) package in order to quickly view the files in the data directory.  This directory contains a file for all of the characters that have appeared in the Marvel comics."
   ]
  },
  {
   "cell_type": "code",
   "execution_count": null,
   "metadata": {},
   "outputs": [],
   "source": [
    "files = glob(\"data/*\")\n",
    "files"
   ]
  },
  {
   "cell_type": "markdown",
   "metadata": {},
   "source": [
    "Let's make a function that will return the characters to us one at a time as a `dictionary` object.  We will make use of [generators](https://docs.python.org/3/howto/functional.html#generators) which use the [yield](https://docs.python.org/3/reference/simple_stmts.html#yield) keyword to pass execution back to the calling code.\n",
    "\n",
    "One reason to use a `yield`, or generator, is so that you can \"stream\" data rather than loading it all into memory at once.  In this example, each individual row of the file will be read, converted to a `dict`, and then returned to the calling code.  We also do a little cleanup of the data by converting some fields to `int`."
   ]
  },
  {
   "cell_type": "code",
   "execution_count": null,
   "metadata": {},
   "outputs": [],
   "source": [
    "def get_characters(source):\n",
    "    assert source in [\"marvel\", \"dc\"]\n",
    "    with open(files[0], 'r') as f:\n",
    "        reader = csv.DictReader(f)\n",
    "        for row in reader:\n",
    "            row[\"Year\"] = int(row[\"Year\"] ) if row[\"Year\"] else None\n",
    "            row[\"APPEARANCES\"] = int(row[\"APPEARANCES\"] ) if row[\"APPEARANCES\"] else None\n",
    "            yield dict(row)"
   ]
  },
  {
   "cell_type": "markdown",
   "metadata": {},
   "source": [
    "With our generator function, we can now loop through all of the items with ease and without worrying about our memory usage.  Below is an example of how to loop through a generator although a `break` is included so that we stop after a single item."
   ]
  },
  {
   "cell_type": "code",
   "execution_count": null,
   "metadata": {},
   "outputs": [],
   "source": [
    "for item in get_characters(\"marvel\"):\n",
    "    pprint(item)\n",
    "    break"
   ]
  },
  {
   "cell_type": "markdown",
   "metadata": {},
   "source": [
    "Of course, we can force the generator to give us all of the items using `list`.  This is usually a bad idea as a Python programmer would have had good reasons to only parcel out one data item at a time."
   ]
  },
  {
   "cell_type": "code",
   "execution_count": null,
   "metadata": {},
   "outputs": [],
   "source": [
    "data = list(get_characters(\"marvel\"))\n",
    "\n",
    "print(\"There are {} items\".format(len(data)))\n",
    "data[7]"
   ]
  },
  {
   "cell_type": "markdown",
   "metadata": {},
   "source": [
    "We've now reviewed our data and should have a good idea of what to expect.  We can now think about how we would like to store this in MongoDB."
   ]
  },
  {
   "cell_type": "markdown",
   "metadata": {},
   "source": [
    "## Let's connect to the server\n",
    "\n",
    "At this point we want to connect to our server and get ready to insert data.  "
   ]
  },
  {
   "cell_type": "code",
   "execution_count": null,
   "metadata": {},
   "outputs": [],
   "source": [
    "client = MongoClient('localhost', 27017)"
   ]
  },
  {
   "cell_type": "markdown",
   "metadata": {},
   "source": [
    "Let's take a look at the properties and methods available to us."
   ]
  },
  {
   "cell_type": "code",
   "execution_count": null,
   "metadata": {},
   "outputs": [],
   "source": [
    "dir(client)"
   ]
  },
  {
   "cell_type": "markdown",
   "metadata": {},
   "source": [
    "Now let's use the `list_database_names` method to see what databases already exist."
   ]
  },
  {
   "cell_type": "code",
   "execution_count": null,
   "metadata": {},
   "outputs": [],
   "source": [
    "client.list_database_names()"
   ]
  },
  {
   "cell_type": "markdown",
   "metadata": {},
   "source": [
    "## Let's experiment with MongoDB\n",
    "\n",
    "First, choose a (string) name for your database.  If you are sharing the server with other users you want to make sure it is unique."
   ]
  },
  {
   "cell_type": "code",
   "execution_count": null,
   "metadata": {},
   "outputs": [],
   "source": [
    "DATABASE_NAME = \n",
    "db = client[DATABASE_NAME]"
   ]
  },
  {
   "cell_type": "markdown",
   "metadata": {},
   "source": [
    "<br>Let's use the [insert_one](http://api.mongodb.com/python/current/tutorial.html#inserting-a-document) method to add a single object to the `students` collection."
   ]
  },
  {
   "cell_type": "code",
   "execution_count": null,
   "metadata": {},
   "outputs": [],
   "source": [
    "db[\"students\"].insert_one({\"name\": \"Gregor Gregorson\"})"
   ]
  },
  {
   "cell_type": "markdown",
   "metadata": {},
   "source": [
    "<br>\n",
    "Now let's try inserting a bunch of students at the same time."
   ]
  },
  {
   "cell_type": "code",
   "execution_count": null,
   "metadata": {},
   "outputs": [],
   "source": [
    "db[\"students\"].insert_many([\n",
    "    {\"name\": \"Bob Bobertson\"},\n",
    "    {\"name\": \"Roberta Robertason\"},\n",
    "    {\"name\": \"Salvatore McFesterson\"},\n",
    "])"
   ]
  },
  {
   "cell_type": "markdown",
   "metadata": {},
   "source": [
    "<br>Presumably we have 4 student records in our collection.  List get the first one with `find_one` with some search parameters."
   ]
  },
  {
   "cell_type": "code",
   "execution_count": null,
   "metadata": {},
   "outputs": [],
   "source": [
    "db[\"students\"].find_one({'name': 'Allen'})"
   ]
  },
  {
   "cell_type": "markdown",
   "metadata": {},
   "source": [
    "<br>Now let's query for all of the records and loop through them.  Note that each record now has a unique `_id` field."
   ]
  },
  {
   "cell_type": "code",
   "execution_count": null,
   "metadata": {
    "scrolled": true
   },
   "outputs": [],
   "source": [
    "for item in db[\"students\"].find():\n",
    "    print(item)"
   ]
  },
  {
   "cell_type": "markdown",
   "metadata": {},
   "source": [
    "<br>\n",
    "You can do lots of things with the collection object.  Let's look at all the properties and methods available to us."
   ]
  },
  {
   "cell_type": "code",
   "execution_count": null,
   "metadata": {
    "scrolled": true
   },
   "outputs": [],
   "source": [
    "dir(db[\"students\"])"
   ]
  },
  {
   "cell_type": "markdown",
   "metadata": {},
   "source": [
    "## Add our comics data to MongoDB\n",
    "\n",
    "Let's create \"comics\" collection from the database object to use for the rest of this workshop.  Using this `collections` variable we will add our comic book character data."
   ]
  },
  {
   "cell_type": "code",
   "execution_count": null,
   "metadata": {},
   "outputs": [],
   "source": [
    "collection = db[\"comics\"]"
   ]
  },
  {
   "cell_type": "markdown",
   "metadata": {},
   "source": [
    "<br>Now, use this collection variable to add the comic book charaters to the database like we did earlier with the students.  You may choose to add them one at a time using [insert_one](http://api.mongodb.com/python/current/tutorial.html#inserting-a-document) or all at once using [insert_many](http://api.mongodb.com/python/current/tutorial.html#bulk-inserts).\n",
    "\n"
   ]
  },
  {
   "cell_type": "code",
   "execution_count": null,
   "metadata": {},
   "outputs": [],
   "source": [
    "collection.insert_many(data)"
   ]
  },
  {
   "cell_type": "markdown",
   "metadata": {},
   "source": [
    "## Now let's query the data\n",
    "\n",
    "Like before, let's use [find_one]() to query for the first record in the collection.  Then you will start adding code to perform your own queries."
   ]
  },
  {
   "cell_type": "code",
   "execution_count": null,
   "metadata": {},
   "outputs": [],
   "source": [
    "collection.find_one()"
   ]
  },
  {
   "cell_type": "markdown",
   "metadata": {},
   "source": [
    "<br>Let's find the record for Captain America - the name used by the dataset has been included below."
   ]
  },
  {
   "cell_type": "code",
   "execution_count": null,
   "metadata": {},
   "outputs": [],
   "source": [
    "name = 'Captain America (Steven Rogers)'\n",
    "collection.find_one({'name': name})"
   ]
  },
  {
   "cell_type": "markdown",
   "metadata": {},
   "source": [
    "<br>Let's query for all of the \"Good Characters\", with \"Gold Eyes\", with a \"Secret Identity\" and print their names.  For this you will use the [find](http://api.mongodb.com/python/current/tutorial.html#querying-for-more-than-one-document) method."
   ]
  },
  {
   "cell_type": "code",
   "execution_count": null,
   "metadata": {
    "scrolled": false
   },
   "outputs": [],
   "source": [
    "for item in collection.find({'ALIGN': 'Good Characters', 'EYE': 'Gold Eyes', 'ID': 'Secret Identity'}):\n",
    "    print(item[\"name\"])"
   ]
  },
  {
   "cell_type": "markdown",
   "metadata": {},
   "source": [
    "<br>Now, let's query for all of the \"Female\", \"Good Characters\" that were introduced since 2010 but appear only once.  We will print out their names but this is a slightly more advanced query.  Check the [pymongo](http://api.mongodb.com/python/current/tutorial.html#range-queries) and/or [mongodb](https://docs.mongodb.com/manual/reference/operator/query/#query-selectors) documentation for help. "
   ]
  },
  {
   "cell_type": "code",
   "execution_count": null,
   "metadata": {},
   "outputs": [],
   "source": [
    "for item in collection.find({'ALIGN': 'Bad Characters', 'SEX': 'Female Characters', 'APPEARANCES': '1', 'Year' : {'$gte': 2010}}):\n",
    "    print(item[\"name\"])"
   ]
  },
  {
   "cell_type": "markdown",
   "metadata": {},
   "source": [
    "# All Done!\n",
    "\n",
    "Want more work?\n",
    "\n",
    "* Read and insert the data from the DC dataset.\n",
    "* Come up with 3 different searches for this new data."
   ]
  },
  {
   "cell_type": "code",
   "execution_count": null,
   "metadata": {},
   "outputs": [],
   "source": []
  }
 ],
 "metadata": {
  "kernelspec": {
   "display_name": "xbus502",
   "language": "python",
   "name": "xbus502"
  },
  "language_info": {
   "codemirror_mode": {
    "name": "ipython",
    "version": 3
   },
   "file_extension": ".py",
   "mimetype": "text/x-python",
   "name": "python",
   "nbconvert_exporter": "python",
   "pygments_lexer": "ipython3",
   "version": "3.6.5"
  }
 },
 "nbformat": 4,
 "nbformat_minor": 2
}
